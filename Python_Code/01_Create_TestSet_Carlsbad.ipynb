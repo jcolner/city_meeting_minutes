{
 "cells": [
  {
   "cell_type": "code",
   "execution_count": 4,
   "metadata": {},
   "outputs": [],
   "source": [
    "import os\n",
    "import random\n",
    "from pdf2image import convert_from_path\n",
    "from PyPDF2 import PdfReader\n",
    "\n"
   ]
  },
  {
   "cell_type": "code",
   "execution_count": 5,
   "metadata": {},
   "outputs": [
    {
     "data": {
      "text/plain": [
       "'/opt/Python_Code'"
      ]
     },
     "execution_count": 5,
     "metadata": {},
     "output_type": "execute_result"
    }
   ],
   "source": [
    "os.getcwd()"
   ]
  },
  {
   "cell_type": "code",
   "execution_count": 6,
   "metadata": {},
   "outputs": [],
   "source": [
    "os.chdir(\"..\")"
   ]
  },
  {
   "cell_type": "code",
   "execution_count": 7,
   "metadata": {},
   "outputs": [],
   "source": [
    "def convert_pdf_to_images(pdf_path, output_dir):\n",
    "    # Create output directory if it doesn't exist\n",
    "    os.makedirs(output_dir, exist_ok=True)\n",
    "\n",
    "    # Extract folder name and file name\n",
    "    folder_name = os.path.basename(os.path.dirname(pdf_path))\n",
    "    file_name = os.path.splitext(os.path.basename(pdf_path))[0]\n",
    "\n",
    "    # Open the PDF file\n",
    "    with open(pdf_path, \"rb\") as file:\n",
    "        pdf = PdfReader(file)\n",
    "\n",
    "        # Iterate over each page\n",
    "        for page_number in range(len(pdf.pages)):\n",
    "            # Extract the page as an image\n",
    "            images = convert_from_path(pdf_path, first_page=page_number + 1, last_page=page_number + 1)\n",
    "\n",
    "            # Save each image separately\n",
    "            for i, image in enumerate(images):\n",
    "                image_path = os.path.join(output_dir, f\"{folder_name}_{file_name}_page{page_number+1}_{i+1}.png\")\n",
    "                image.save(image_path, \"PNG\")\n",
    "\n",
    "                print(f\"Page {page_number+1}, image {i+1} saved as {image_path}\")\n",
    "\n",
    "def convert_random_pdfs_in_folders(input_folders, output_dir, num_pdfs=5):\n",
    "    # Create output directory if it doesn't exist\n",
    "    os.makedirs(output_dir, exist_ok=True)\n",
    "\n",
    "    # Iterate over each input folder\n",
    "    for folder in input_folders:\n",
    "        # Get the list of PDF files in the folder\n",
    "        pdf_files = [file for file in os.listdir(folder) if file.lower().endswith(\".pdf\")]\n",
    "\n",
    "        # Randomly select PDF files\n",
    "        random_pdfs = random.sample(pdf_files, min(num_pdfs, len(pdf_files)))\n",
    "\n",
    "        # Convert each selected PDF file\n",
    "        for pdf_file in random_pdfs:\n",
    "            pdf_path = os.path.join(folder, pdf_file)\n",
    "            convert_pdf_to_images(pdf_path, output_dir)\n",
    "\n"
   ]
  },
  {
   "cell_type": "code",
   "execution_count": 8,
   "metadata": {},
   "outputs": [
    {
     "name": "stdout",
     "output_type": "stream",
     "text": [
      "Page 1, image 1 saved as early_images2/2008_2008-07-01; City Council_page1_1.png\n",
      "Page 2, image 1 saved as early_images2/2008_2008-07-01; City Council_page2_1.png\n",
      "Page 3, image 1 saved as early_images2/2008_2008-07-01; City Council_page3_1.png\n",
      "Page 4, image 1 saved as early_images2/2008_2008-07-01; City Council_page4_1.png\n",
      "Page 5, image 1 saved as early_images2/2008_2008-07-01; City Council_page5_1.png\n",
      "Page 6, image 1 saved as early_images2/2008_2008-07-01; City Council_page6_1.png\n",
      "Page 1, image 1 saved as early_images2/2008_2008-02-05; City Council (3)_page1_1.png\n",
      "Page 1, image 1 saved as early_images2/2008_2008-03-25; City Council_page1_1.png\n",
      "Page 2, image 1 saved as early_images2/2008_2008-03-25; City Council_page2_1.png\n",
      "Page 3, image 1 saved as early_images2/2008_2008-03-25; City Council_page3_1.png\n",
      "Page 4, image 1 saved as early_images2/2008_2008-03-25; City Council_page4_1.png\n",
      "Page 1, image 1 saved as early_images2/2009_2009-04-07; City Council (3)_page1_1.png\n",
      "Page 2, image 1 saved as early_images2/2009_2009-04-07; City Council (3)_page2_1.png\n",
      "Page 3, image 1 saved as early_images2/2009_2009-04-07; City Council (3)_page3_1.png\n",
      "Page 4, image 1 saved as early_images2/2009_2009-04-07; City Council (3)_page4_1.png\n",
      "Page 5, image 1 saved as early_images2/2009_2009-04-07; City Council (3)_page5_1.png\n",
      "Page 1, image 1 saved as early_images2/2009_2009-08-18; City Council (7)_page1_1.png\n",
      "Page 2, image 1 saved as early_images2/2009_2009-08-18; City Council (7)_page2_1.png\n",
      "Page 1, image 1 saved as early_images2/2009_2009-05-05; City Council (9)_page1_1.png\n",
      "Page 2, image 1 saved as early_images2/2009_2009-05-05; City Council (9)_page2_1.png\n",
      "Page 3, image 1 saved as early_images2/2009_2009-05-05; City Council (9)_page3_1.png\n",
      "Page 4, image 1 saved as early_images2/2009_2009-05-05; City Council (9)_page4_1.png\n",
      "Page 5, image 1 saved as early_images2/2009_2009-05-05; City Council (9)_page5_1.png\n",
      "Page 6, image 1 saved as early_images2/2009_2009-05-05; City Council (9)_page6_1.png\n",
      "Page 1, image 1 saved as early_images2/2010_2010-11-09; City Council_page1_1.png\n",
      "Page 1, image 1 saved as early_images2/2010_2010-10-12; City Council (4)_page1_1.png\n",
      "Page 1, image 1 saved as early_images2/2010_2010-05-04; City Council_page1_1.png\n",
      "Page 1, image 1 saved as early_images2/2011_2011-05-24; City Council (2)_page1_1.png\n",
      "Page 2, image 1 saved as early_images2/2011_2011-05-24; City Council (2)_page2_1.png\n",
      "Page 1, image 1 saved as early_images2/2011_2011-04-19; City Council (3)_page1_1.png\n",
      "Page 2, image 1 saved as early_images2/2011_2011-04-19; City Council (3)_page2_1.png\n",
      "Page 3, image 1 saved as early_images2/2011_2011-04-19; City Council (3)_page3_1.png\n",
      "Page 4, image 1 saved as early_images2/2011_2011-04-19; City Council (3)_page4_1.png\n",
      "Page 5, image 1 saved as early_images2/2011_2011-04-19; City Council (3)_page5_1.png\n",
      "Page 6, image 1 saved as early_images2/2011_2011-04-19; City Council (3)_page6_1.png\n",
      "Page 7, image 1 saved as early_images2/2011_2011-04-19; City Council (3)_page7_1.png\n",
      "Page 8, image 1 saved as early_images2/2011_2011-04-19; City Council (3)_page8_1.png\n",
      "Page 9, image 1 saved as early_images2/2011_2011-04-19; City Council (3)_page9_1.png\n",
      "Page 10, image 1 saved as early_images2/2011_2011-04-19; City Council (3)_page10_1.png\n",
      "Page 11, image 1 saved as early_images2/2011_2011-04-19; City Council (3)_page11_1.png\n",
      "Page 12, image 1 saved as early_images2/2011_2011-04-19; City Council (3)_page12_1.png\n",
      "Page 13, image 1 saved as early_images2/2011_2011-04-19; City Council (3)_page13_1.png\n",
      "Page 14, image 1 saved as early_images2/2011_2011-04-19; City Council (3)_page14_1.png\n",
      "Page 15, image 1 saved as early_images2/2011_2011-04-19; City Council (3)_page15_1.png\n",
      "Page 16, image 1 saved as early_images2/2011_2011-04-19; City Council (3)_page16_1.png\n",
      "Page 17, image 1 saved as early_images2/2011_2011-04-19; City Council (3)_page17_1.png\n",
      "Page 18, image 1 saved as early_images2/2011_2011-04-19; City Council (3)_page18_1.png\n",
      "Page 19, image 1 saved as early_images2/2011_2011-04-19; City Council (3)_page19_1.png\n",
      "Page 20, image 1 saved as early_images2/2011_2011-04-19; City Council (3)_page20_1.png\n",
      "Page 21, image 1 saved as early_images2/2011_2011-04-19; City Council (3)_page21_1.png\n",
      "Page 22, image 1 saved as early_images2/2011_2011-04-19; City Council (3)_page22_1.png\n",
      "Page 23, image 1 saved as early_images2/2011_2011-04-19; City Council (3)_page23_1.png\n",
      "Page 24, image 1 saved as early_images2/2011_2011-04-19; City Council (3)_page24_1.png\n",
      "Page 1, image 1 saved as early_images2/2011_2011-02-15; City Council (3)_page1_1.png\n",
      "Page 2, image 1 saved as early_images2/2011_2011-02-15; City Council (3)_page2_1.png\n",
      "Page 3, image 1 saved as early_images2/2011_2011-02-15; City Council (3)_page3_1.png\n",
      "Page 4, image 1 saved as early_images2/2011_2011-02-15; City Council (3)_page4_1.png\n",
      "Page 5, image 1 saved as early_images2/2011_2011-02-15; City Council (3)_page5_1.png\n",
      "Page 6, image 1 saved as early_images2/2011_2011-02-15; City Council (3)_page6_1.png\n",
      "Page 7, image 1 saved as early_images2/2011_2011-02-15; City Council (3)_page7_1.png\n",
      "Page 8, image 1 saved as early_images2/2011_2011-02-15; City Council (3)_page8_1.png\n",
      "Page 9, image 1 saved as early_images2/2011_2011-02-15; City Council (3)_page9_1.png\n",
      "Page 10, image 1 saved as early_images2/2011_2011-02-15; City Council (3)_page10_1.png\n",
      "Page 11, image 1 saved as early_images2/2011_2011-02-15; City Council (3)_page11_1.png\n",
      "Page 12, image 1 saved as early_images2/2011_2011-02-15; City Council (3)_page12_1.png\n",
      "Page 13, image 1 saved as early_images2/2011_2011-02-15; City Council (3)_page13_1.png\n",
      "Page 14, image 1 saved as early_images2/2011_2011-02-15; City Council (3)_page14_1.png\n",
      "Page 15, image 1 saved as early_images2/2011_2011-02-15; City Council (3)_page15_1.png\n",
      "Page 16, image 1 saved as early_images2/2011_2011-02-15; City Council (3)_page16_1.png\n",
      "Page 17, image 1 saved as early_images2/2011_2011-02-15; City Council (3)_page17_1.png\n",
      "Page 18, image 1 saved as early_images2/2011_2011-02-15; City Council (3)_page18_1.png\n",
      "Page 19, image 1 saved as early_images2/2011_2011-02-15; City Council (3)_page19_1.png\n",
      "Page 20, image 1 saved as early_images2/2011_2011-02-15; City Council (3)_page20_1.png\n",
      "Page 21, image 1 saved as early_images2/2011_2011-02-15; City Council (3)_page21_1.png\n",
      "Page 22, image 1 saved as early_images2/2011_2011-02-15; City Council (3)_page22_1.png\n",
      "Page 23, image 1 saved as early_images2/2011_2011-02-15; City Council (3)_page23_1.png\n",
      "Page 24, image 1 saved as early_images2/2011_2011-02-15; City Council (3)_page24_1.png\n",
      "Page 25, image 1 saved as early_images2/2011_2011-02-15; City Council (3)_page25_1.png\n",
      "Page 26, image 1 saved as early_images2/2011_2011-02-15; City Council (3)_page26_1.png\n",
      "Page 27, image 1 saved as early_images2/2011_2011-02-15; City Council (3)_page27_1.png\n",
      "Page 28, image 1 saved as early_images2/2011_2011-02-15; City Council (3)_page28_1.png\n",
      "Page 29, image 1 saved as early_images2/2011_2011-02-15; City Council (3)_page29_1.png\n",
      "Page 30, image 1 saved as early_images2/2011_2011-02-15; City Council (3)_page30_1.png\n",
      "Page 31, image 1 saved as early_images2/2011_2011-02-15; City Council (3)_page31_1.png\n",
      "Page 32, image 1 saved as early_images2/2011_2011-02-15; City Council (3)_page32_1.png\n",
      "Page 33, image 1 saved as early_images2/2011_2011-02-15; City Council (3)_page33_1.png\n",
      "Page 34, image 1 saved as early_images2/2011_2011-02-15; City Council (3)_page34_1.png\n",
      "Page 35, image 1 saved as early_images2/2011_2011-02-15; City Council (3)_page35_1.png\n",
      "Page 36, image 1 saved as early_images2/2011_2011-02-15; City Council (3)_page36_1.png\n",
      "Page 37, image 1 saved as early_images2/2011_2011-02-15; City Council (3)_page37_1.png\n"
     ]
    },
    {
     "name": "stderr",
     "output_type": "stream",
     "text": [
      "incorrect startxref pointer(3)\n"
     ]
    },
    {
     "name": "stdout",
     "output_type": "stream",
     "text": [
      "Page 38, image 1 saved as early_images2/2011_2011-02-15; City Council (3)_page38_1.png\n",
      "Page 1, image 1 saved as early_images2/2012_2012-02-28; City Council (2)_page1_1.png\n",
      "Page 2, image 1 saved as early_images2/2012_2012-02-28; City Council (2)_page2_1.png\n"
     ]
    },
    {
     "name": "stderr",
     "output_type": "stream",
     "text": [
      "incorrect startxref pointer(3)\n"
     ]
    },
    {
     "name": "stdout",
     "output_type": "stream",
     "text": [
      "Page 1, image 1 saved as early_images2/2012_2012-07-17; City Council (2)_page1_1.png\n",
      "Page 2, image 1 saved as early_images2/2012_2012-07-17; City Council (2)_page2_1.png\n",
      "Page 3, image 1 saved as early_images2/2012_2012-07-17; City Council (2)_page3_1.png\n",
      "Page 4, image 1 saved as early_images2/2012_2012-07-17; City Council (2)_page4_1.png\n",
      "Page 5, image 1 saved as early_images2/2012_2012-07-17; City Council (2)_page5_1.png\n",
      "Page 6, image 1 saved as early_images2/2012_2012-07-17; City Council (2)_page6_1.png\n",
      "Page 7, image 1 saved as early_images2/2012_2012-07-17; City Council (2)_page7_1.png\n",
      "Page 8, image 1 saved as early_images2/2012_2012-07-17; City Council (2)_page8_1.png\n",
      "Page 9, image 1 saved as early_images2/2012_2012-07-17; City Council (2)_page9_1.png\n"
     ]
    },
    {
     "name": "stderr",
     "output_type": "stream",
     "text": [
      "incorrect startxref pointer(3)\n"
     ]
    },
    {
     "name": "stdout",
     "output_type": "stream",
     "text": [
      "Page 10, image 1 saved as early_images2/2012_2012-07-17; City Council (2)_page10_1.png\n",
      "Page 1, image 1 saved as early_images2/2012_2012-06-12; City Council_page1_1.png\n",
      "Page 2, image 1 saved as early_images2/2012_2012-06-12; City Council_page2_1.png\n",
      "Page 3, image 1 saved as early_images2/2012_2012-06-12; City Council_page3_1.png\n",
      "Page 4, image 1 saved as early_images2/2012_2012-06-12; City Council_page4_1.png\n",
      "Page 5, image 1 saved as early_images2/2012_2012-06-12; City Council_page5_1.png\n"
     ]
    },
    {
     "name": "stderr",
     "output_type": "stream",
     "text": [
      "incorrect startxref pointer(3)\n"
     ]
    },
    {
     "name": "stdout",
     "output_type": "stream",
     "text": [
      "Page 1, image 1 saved as early_images2/2013_2013-03-12; City Council (2)_page1_1.png\n",
      "Page 2, image 1 saved as early_images2/2013_2013-03-12; City Council (2)_page2_1.png\n",
      "Page 3, image 1 saved as early_images2/2013_2013-03-12; City Council (2)_page3_1.png\n",
      "Page 4, image 1 saved as early_images2/2013_2013-03-12; City Council (2)_page4_1.png\n",
      "Page 5, image 1 saved as early_images2/2013_2013-03-12; City Council (2)_page5_1.png\n",
      "Page 6, image 1 saved as early_images2/2013_2013-03-12; City Council (2)_page6_1.png\n",
      "Page 7, image 1 saved as early_images2/2013_2013-03-12; City Council (2)_page7_1.png\n",
      "Page 8, image 1 saved as early_images2/2013_2013-03-12; City Council (2)_page8_1.png\n"
     ]
    },
    {
     "name": "stderr",
     "output_type": "stream",
     "text": [
      "incorrect startxref pointer(3)\n"
     ]
    },
    {
     "name": "stdout",
     "output_type": "stream",
     "text": [
      "Page 9, image 1 saved as early_images2/2013_2013-03-12; City Council (2)_page9_1.png\n"
     ]
    },
    {
     "name": "stderr",
     "output_type": "stream",
     "text": [
      "incorrect startxref pointer(3)\n"
     ]
    },
    {
     "name": "stdout",
     "output_type": "stream",
     "text": [
      "Page 1, image 1 saved as early_images2/2013_2013-03-12; City Council_page1_1.png\n"
     ]
    },
    {
     "name": "stderr",
     "output_type": "stream",
     "text": [
      "incorrect startxref pointer(3)\n"
     ]
    },
    {
     "name": "stdout",
     "output_type": "stream",
     "text": [
      "Page 1, image 1 saved as early_images2/2013_2013-07-22; City Council_page1_1.png\n"
     ]
    },
    {
     "name": "stderr",
     "output_type": "stream",
     "text": [
      "incorrect startxref pointer(3)\n"
     ]
    },
    {
     "name": "stdout",
     "output_type": "stream",
     "text": [
      "Page 1, image 1 saved as early_images2/2014_2014-10-30; City Council_page1_1.png\n"
     ]
    },
    {
     "name": "stderr",
     "output_type": "stream",
     "text": [
      "incorrect startxref pointer(3)\n"
     ]
    },
    {
     "name": "stdout",
     "output_type": "stream",
     "text": [
      "Page 1, image 1 saved as early_images2/2014_2014-06-24; City Council_page1_1.png\n",
      "Page 1, image 1 saved as early_images2/2014_2014-02-11; City Council_page1_1.png\n",
      "Page 2, image 1 saved as early_images2/2014_2014-02-11; City Council_page2_1.png\n",
      "Page 3, image 1 saved as early_images2/2014_2014-02-11; City Council_page3_1.png\n",
      "Page 4, image 1 saved as early_images2/2014_2014-02-11; City Council_page4_1.png\n",
      "Page 5, image 1 saved as early_images2/2014_2014-02-11; City Council_page5_1.png\n",
      "Page 6, image 1 saved as early_images2/2014_2014-02-11; City Council_page6_1.png\n"
     ]
    },
    {
     "name": "stderr",
     "output_type": "stream",
     "text": [
      "incorrect startxref pointer(3)\n",
      "incorrect startxref pointer(3)\n"
     ]
    },
    {
     "name": "stdout",
     "output_type": "stream",
     "text": [
      "Page 1, image 1 saved as early_images2/2015_2015-05-12; City Council (2)_page1_1.png\n",
      "Page 1, image 1 saved as early_images2/2015_2015-09-01; City Council_page1_1.png\n",
      "Page 2, image 1 saved as early_images2/2015_2015-09-01; City Council_page2_1.png\n",
      "Page 3, image 1 saved as early_images2/2015_2015-09-01; City Council_page3_1.png\n",
      "Page 1, image 1 saved as early_images2/2015_2015-12-15; City Council (3)_page1_1.png\n",
      "Page 2, image 1 saved as early_images2/2015_2015-12-15; City Council (3)_page2_1.png\n",
      "Page 1, image 1 saved as early_images2/2016_2016-06-07; City Council_page1_1.png\n",
      "Page 1, image 1 saved as early_images2/2016_2016-03-15; City Council_page1_1.png\n",
      "Page 2, image 1 saved as early_images2/2016_2016-03-15; City Council_page2_1.png\n",
      "Page 3, image 1 saved as early_images2/2016_2016-03-15; City Council_page3_1.png\n",
      "Page 1, image 1 saved as early_images2/2016_2016-09-27; City Council (2)_page1_1.png\n",
      "Page 2, image 1 saved as early_images2/2016_2016-09-27; City Council (2)_page2_1.png\n",
      "Page 3, image 1 saved as early_images2/2016_2016-09-27; City Council (2)_page3_1.png\n",
      "Page 4, image 1 saved as early_images2/2016_2016-09-27; City Council (2)_page4_1.png\n",
      "Page 5, image 1 saved as early_images2/2016_2016-09-27; City Council (2)_page5_1.png\n",
      "Page 6, image 1 saved as early_images2/2016_2016-09-27; City Council (2)_page6_1.png\n",
      "Page 7, image 1 saved as early_images2/2016_2016-09-27; City Council (2)_page7_1.png\n",
      "Page 8, image 1 saved as early_images2/2016_2016-09-27; City Council (2)_page8_1.png\n",
      "Page 9, image 1 saved as early_images2/2016_2016-09-27; City Council (2)_page9_1.png\n",
      "Page 1, image 1 saved as early_images2/2017_2017-12-12; City Council_page1_1.png\n",
      "Page 1, image 1 saved as early_images2/2017_2017-07-11; City Council_page1_1.png\n",
      "Page 1, image 1 saved as early_images2/2017_2017-02-14; City Council_page1_1.png\n",
      "Page 1, image 1 saved as early_images2/2018_2018-10-16; City Council (2)_page1_1.png\n",
      "Page 2, image 1 saved as early_images2/2018_2018-10-16; City Council (2)_page2_1.png\n",
      "Page 3, image 1 saved as early_images2/2018_2018-10-16; City Council (2)_page3_1.png\n",
      "Page 4, image 1 saved as early_images2/2018_2018-10-16; City Council (2)_page4_1.png\n",
      "Page 5, image 1 saved as early_images2/2018_2018-10-16; City Council (2)_page5_1.png\n",
      "Page 6, image 1 saved as early_images2/2018_2018-10-16; City Council (2)_page6_1.png\n",
      "Page 1, image 1 saved as early_images2/2018_2018-04-17; City Council_page1_1.png\n",
      "Page 2, image 1 saved as early_images2/2018_2018-04-17; City Council_page2_1.png\n",
      "Page 3, image 1 saved as early_images2/2018_2018-04-17; City Council_page3_1.png\n",
      "Page 1, image 1 saved as early_images2/2018_2018-01-09; City Council (2)_page1_1.png\n",
      "Page 2, image 1 saved as early_images2/2018_2018-01-09; City Council (2)_page2_1.png\n",
      "Page 3, image 1 saved as early_images2/2018_2018-01-09; City Council (2)_page3_1.png\n",
      "Page 4, image 1 saved as early_images2/2018_2018-01-09; City Council (2)_page4_1.png\n",
      "Page 5, image 1 saved as early_images2/2018_2018-01-09; City Council (2)_page5_1.png\n",
      "Page 1, image 1 saved as early_images2/2019_2019-03-12; City Council (3)_page1_1.png\n",
      "Page 2, image 1 saved as early_images2/2019_2019-03-12; City Council (3)_page2_1.png\n",
      "Page 3, image 1 saved as early_images2/2019_2019-03-12; City Council (3)_page3_1.png\n",
      "Page 4, image 1 saved as early_images2/2019_2019-03-12; City Council (3)_page4_1.png\n",
      "Page 5, image 1 saved as early_images2/2019_2019-03-12; City Council (3)_page5_1.png\n",
      "Page 6, image 1 saved as early_images2/2019_2019-03-12; City Council (3)_page6_1.png\n",
      "Page 1, image 1 saved as early_images2/2019_2019-06-11; City Council (3)_page1_1.png\n",
      "Page 2, image 1 saved as early_images2/2019_2019-06-11; City Council (3)_page2_1.png\n",
      "Page 3, image 1 saved as early_images2/2019_2019-06-11; City Council (3)_page3_1.png\n",
      "Page 4, image 1 saved as early_images2/2019_2019-06-11; City Council (3)_page4_1.png\n",
      "Page 5, image 1 saved as early_images2/2019_2019-06-11; City Council (3)_page5_1.png\n",
      "Page 6, image 1 saved as early_images2/2019_2019-06-11; City Council (3)_page6_1.png\n",
      "Page 7, image 1 saved as early_images2/2019_2019-06-11; City Council (3)_page7_1.png\n",
      "Page 8, image 1 saved as early_images2/2019_2019-06-11; City Council (3)_page8_1.png\n",
      "Page 9, image 1 saved as early_images2/2019_2019-06-11; City Council (3)_page9_1.png\n",
      "Page 10, image 1 saved as early_images2/2019_2019-06-11; City Council (3)_page10_1.png\n",
      "Page 1, image 1 saved as early_images2/2019_2019-03-26; City Council_page1_1.png\n",
      "Page 2, image 1 saved as early_images2/2019_2019-03-26; City Council_page2_1.png\n",
      "Page 3, image 1 saved as early_images2/2019_2019-03-26; City Council_page3_1.png\n",
      "Page 4, image 1 saved as early_images2/2019_2019-03-26; City Council_page4_1.png\n",
      "Page 5, image 1 saved as early_images2/2019_2019-03-26; City Council_page5_1.png\n",
      "Page 1, image 1 saved as early_images2/2020_2020-06-02; City Council_page1_1.png\n",
      "Page 1, image 1 saved as early_images2/2020_2020-02-11; City Council (3)_page1_1.png\n",
      "Page 2, image 1 saved as early_images2/2020_2020-02-11; City Council (3)_page2_1.png\n",
      "Page 3, image 1 saved as early_images2/2020_2020-02-11; City Council (3)_page3_1.png\n",
      "Page 4, image 1 saved as early_images2/2020_2020-02-11; City Council (3)_page4_1.png\n",
      "Page 5, image 1 saved as early_images2/2020_2020-02-11; City Council (3)_page5_1.png\n",
      "Page 6, image 1 saved as early_images2/2020_2020-02-11; City Council (3)_page6_1.png\n",
      "Page 1, image 1 saved as early_images2/2020_2020-02-11; City Council_page1_1.png\n",
      "Page 1, image 1 saved as early_images2/2021_2021-03-09; City Council_page1_1.png\n",
      "Page 1, image 1 saved as early_images2/2021_2021-04-20; City Council_page1_1.png\n",
      "Page 1, image 1 saved as early_images2/2021_2021-06-08; City Council_page1_1.png\n",
      "Page 2, image 1 saved as early_images2/2021_2021-06-08; City Council_page2_1.png\n",
      "Page 3, image 1 saved as early_images2/2021_2021-06-08; City Council_page3_1.png\n",
      "Page 4, image 1 saved as early_images2/2021_2021-06-08; City Council_page4_1.png\n",
      "Page 5, image 1 saved as early_images2/2021_2021-06-08; City Council_page5_1.png\n",
      "Page 6, image 1 saved as early_images2/2021_2021-06-08; City Council_page6_1.png\n",
      "Page 7, image 1 saved as early_images2/2021_2021-06-08; City Council_page7_1.png\n",
      "Page 8, image 1 saved as early_images2/2021_2021-06-08; City Council_page8_1.png\n",
      "Page 9, image 1 saved as early_images2/2021_2021-06-08; City Council_page9_1.png\n",
      "Page 1, image 1 saved as early_images2/2022_2022-05-10; City Council_page1_1.png\n",
      "Page 2, image 1 saved as early_images2/2022_2022-05-10; City Council_page2_1.png\n",
      "Page 3, image 1 saved as early_images2/2022_2022-05-10; City Council_page3_1.png\n",
      "Page 4, image 1 saved as early_images2/2022_2022-05-10; City Council_page4_1.png\n",
      "Page 5, image 1 saved as early_images2/2022_2022-05-10; City Council_page5_1.png\n",
      "Page 6, image 1 saved as early_images2/2022_2022-05-10; City Council_page6_1.png\n",
      "Page 7, image 1 saved as early_images2/2022_2022-05-10; City Council_page7_1.png\n",
      "Page 8, image 1 saved as early_images2/2022_2022-05-10; City Council_page8_1.png\n",
      "Page 9, image 1 saved as early_images2/2022_2022-05-10; City Council_page9_1.png\n",
      "Page 1, image 1 saved as early_images2/2022_2022-05-17; City Council_page1_1.png\n",
      "Page 2, image 1 saved as early_images2/2022_2022-05-17; City Council_page2_1.png\n",
      "Page 3, image 1 saved as early_images2/2022_2022-05-17; City Council_page3_1.png\n",
      "Page 4, image 1 saved as early_images2/2022_2022-05-17; City Council_page4_1.png\n",
      "Page 5, image 1 saved as early_images2/2022_2022-05-17; City Council_page5_1.png\n",
      "Page 1, image 1 saved as early_images2/2022_2022-11-08; City Council_page1_1.png\n"
     ]
    }
   ],
   "source": [
    "# Example usage\n",
    "input_folders = [\"Meeting_Minutes/2008/\", \"Meeting_Minutes/2009/\", \"Meeting_Minutes/2010/\",\"Meeting_Minutes/2011/\",\"Meeting_Minutes/2012/\",\"Meeting_Minutes/2013/\",\n",
    "                 \"Meeting_Minutes/2014/\",\"Meeting_Minutes/2015/\",\"Meeting_Minutes/2016/\",\"Meeting_Minutes/2017/\",\"Meeting_Minutes/2018/\",\"Meeting_Minutes/2019/\",\n",
    "                 \"Meeting_Minutes/2020/\",\"Meeting_Minutes/2021/\",\"Meeting_Minutes/2022/\"]\n",
    "output_dir = \"early_images2/\"\n",
    "num_pdfs_per_folder = 3\n",
    "\n",
    "convert_random_pdfs_in_folders(input_folders, output_dir, num_pdfs=num_pdfs_per_folder)\n"
   ]
  }
 ],
 "metadata": {
  "kernelspec": {
   "display_name": "Python 3",
   "language": "python",
   "name": "python3"
  },
  "language_info": {
   "codemirror_mode": {
    "name": "ipython",
    "version": 3
   },
   "file_extension": ".py",
   "mimetype": "text/x-python",
   "name": "python",
   "nbconvert_exporter": "python",
   "pygments_lexer": "ipython3",
   "version": "3.8.10"
  },
  "orig_nbformat": 4
 },
 "nbformat": 4,
 "nbformat_minor": 2
}
